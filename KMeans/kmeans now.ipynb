{
 "cells": [
  {
   "cell_type": "code",
   "execution_count": 51,
   "metadata": {},
   "outputs": [],
   "source": [
    "from sklearn.datasets import make_blobs\n",
    "import matplotlib.pyplot as plt\n",
    "import numpy as np"
   ]
  },
  {
   "cell_type": "code",
   "execution_count": 52,
   "metadata": {},
   "outputs": [],
   "source": [
    "x,y=make_blobs(n_samples=500,n_features=2,centers=5,random_state=3)"
   ]
  },
  {
   "cell_type": "code",
   "execution_count": 53,
   "metadata": {},
   "outputs": [
    {
     "data": {
      "text/plain": [
       "<matplotlib.collections.PathCollection at 0xd127350>"
      ]
     },
     "execution_count": 53,
     "metadata": {},
     "output_type": "execute_result"
    },
    {
     "data": {
      "image/png": "[encoded data removed]",
      "text/plain": [
       "<Figure size 432x288 with 1 Axes>"
      ]
     },
     "metadata": {
      "needs_background": "light"
     },
     "output_type": "display_data"
    }
   ],
   "source": [
    "plt.scatter(x[:,0],x[:,1])\n"
   ]
  },
  {
   "cell_type": "code",
   "execution_count": 54,
   "metadata": {},
   "outputs": [],
   "source": [
    "colors=[\"red\",\"green\",'black','orange','pink']\n",
    "k=5\n",
    "clusters={}"
   ]
  },
  {
   "cell_type": "code",
   "execution_count": 55,
   "metadata": {},
   "outputs": [],
   "source": [
    "#alloting random centres"
   ]
  },
  {
   "cell_type": "code",
   "execution_count": 56,
   "metadata": {},
   "outputs": [],
   "source": [
    "for i in range(k):\n",
    "    centers=20*(np.random.random((2,))-0.5)\n",
    "    \n",
    "    cluster={\n",
    "        'center':centers,\n",
    "        'point': [],\n",
    "        'color':colors[i],\n",
    "    }\n",
    "    clusters[i]=cluster"
   ]
  },
  {
   "cell_type": "code",
   "execution_count": 57,
   "metadata": {},
   "outputs": [
    {
     "name": "stdout",
     "output_type": "stream",
     "text": [
      "{0: {'center': array([-5.63459676,  4.89231257]), 'point': [], 'color': 'red'}, 1: {'center': array([-6.66428721,  0.17081193]), 'point': [], 'color': 'green'}, 2: {'center': array([-4.84682476,  6.20319701]), 'point': [], 'color': 'black'}, 3: {'center': array([-0.0330276 , -7.02556964]), 'point': [], 'color': 'orange'}, 4: {'center': array([ 3.18512191, -4.10348614]), 'point': [], 'color': 'pink'}}\n"
     ]
    }
   ],
   "source": [
    "print(clusters)"
   ]
  },
  {
   "cell_type": "code",
   "execution_count": 58,
   "metadata": {},
   "outputs": [
    {
     "data": {
      "text/plain": [
       "-5.634596759925143"
      ]
     },
     "execution_count": 58,
     "metadata": {},
     "output_type": "execute_result"
    }
   ],
   "source": [
    " ##update rule\n",
    "    \n",
    "clusters[0]['center'][0]"
   ]
  },
  {
   "cell_type": "code",
   "execution_count": 59,
   "metadata": {},
   "outputs": [],
   "source": [
    "def dist(p,q):\n",
    "    return np.sum((p-q)**2)**0.5"
   ]
  },
  {
   "cell_type": "code",
   "execution_count": 49,
   "metadata": {},
   "outputs": [],
   "source": [
    "def assign(clusters,x):\n",
    "    for ix in range(x.shape[0]):\n",
    "        dista=[]\n",
    "        curr_x=x[ix]\n",
    "        for i in range(k):\n",
    "            a=dist(curr_x,clusters[i]['center'])\n",
    "            dista.append(a)\n",
    "        n=np.argmin(dista)\n",
    "        clusters[n]['point'].append(curr_x)\n",
    "    return clusters\n",
    "    "
   ]
  },
  {
   "cell_type": "code",
   "execution_count": 60,
   "metadata": {},
   "outputs": [],
   "source": [
    "def updaterule(clusters):\n",
    "    for i in range(k):\n",
    "        pts=np.array(clusters[i]['point'])\n",
    "        \n",
    "        if pts.shape[0]>0:\n",
    "            new=np.mean(pts,axis=0)\n",
    "            clusters[i]['center']=new\n",
    "            clusters[i]['point']=[]\n",
    "            print(clusters[i]['center'])"
   ]
  },
  {
   "cell_type": "code",
   "execution_count": 61,
   "metadata": {},
   "outputs": [],
   "source": [
    "##plotting"
   ]
  },
  {
   "cell_type": "code",
   "execution_count": 62,
   "metadata": {},
   "outputs": [],
   "source": [
    "def plotclusters(clusters):\n",
    "    for i  in range(k):\n",
    "        pts=np.array(clusters[i]['point'])\n",
    "        if pts.shape[0]>0:\n",
    "            plt.scatter(pts[:,0],pts[:,1],color = clusters[i]['color'])\n",
    "        plt.scatter(clusters[i]['center'][0],clusters[i]['center'][1])\n",
    "            \n",
    "    plt.show()"
   ]
  },
  {
   "cell_type": "code",
   "execution_count": null,
   "metadata": {},
   "outputs": [],
   "source": [
    "\n"
   ]
  },
  {
   "cell_type": "code",
   "execution_count": 70,
   "metadata": {},
   "outputs": [
    {
     "data": {
      "image/png": "[encoded data removed]",
      "text/plain": [
       "<Figure size 432x288 with 1 Axes>"
      ]
     },
     "metadata": {
      "needs_background": "light"
     },
     "output_type": "display_data"
    },
    {
     "name": "stdout",
     "output_type": "stream",
     "text": [
      "[-3.97953526  0.19458336]\n",
      "[-9.0671623  -0.96740759]\n",
      "[0.88641907 4.19441853]\n",
      "[-7.6726196  -5.69211059]\n",
      "[7.8649674  7.97988109]\n"
     ]
    }
   ],
   "source": [
    "assign(clusters,x)\n",
    "plotclusters(clusters)\n",
    "updaterule(clusters)"
   ]
  },
  {
   "cell_type": "code",
   "execution_count": null,
   "metadata": {},
   "outputs": [],
   "source": []
  },
  {
   "cell_type": "code",
   "execution_count": null,
   "metadata": {},
   "outputs": [],
   "source": []
  },
  {
   "cell_type": "code",
   "execution_count": null,
   "metadata": {},
   "outputs": [],
   "source": []
  },
  {
   "cell_type": "code",
   "execution_count": null,
   "metadata": {},
   "outputs": [],
   "source": []
  }
 ],
 "metadata": {
  "kernelspec": {
   "display_name": "Python 3",
   "language": "python",
   "name": "python3"
  },
  "language_info": {
   "codemirror_mode": {
    "name": "ipython",
    "version": 3
   },
   "file_extension": ".py",
   "mimetype": "text/x-python",
   "name": "python",
   "nbconvert_exporter": "python",
   "pygments_lexer": "ipython3",
   "version": "3.7.2"
  }
 },
 "nbformat": 4,
 "nbformat_minor": 2
}
