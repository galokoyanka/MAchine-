{
 "cells": [
  {
   "cell_type": "code",
   "execution_count": 3,
   "metadata": {},
   "outputs": [],
   "source": [
    "import numpy as ag\n",
    "import matplotlib.pyplot as af\n",
    "import pandas as pf\n"
   ]
  },
  {
   "cell_type": "code",
   "execution_count": 38,
   "metadata": {},
   "outputs": [
    {
     "name": "stdout",
     "output_type": "stream",
     "text": [
      "58.18332398200541\n",
      "10.397929448962284\n"
     ]
    }
   ],
   "source": [
    "a=ag.random.randn(100)*10+60\n",
    "d=ag.random.randn(100)\n",
    "print(ag.mean(a))\n",
    "print(ag.std(a))"
   ]
  },
  {
   "cell_type": "code",
   "execution_count": 39,
   "metadata": {},
   "outputs": [
    {
     "name": "stdout",
     "output_type": "stream",
     "text": [
      "(100,)\n"
     ]
    }
   ],
   "source": [
    "print(a.shape)"
   ]
  },
  {
   "cell_type": "code",
   "execution_count": 40,
   "metadata": {},
   "outputs": [
    {
     "data": {
      "image/png": "[encoded data removed]",
      "text/plain": [
       "<Figure size 432x288 with 1 Axes>"
      ]
     },
     "metadata": {
      "needs_background": "light"
     },
     "output_type": "display_data"
    }
   ],
   "source": [
    "af.hist(a,10)\n",
    "af.show()"
   ]
  },
  {
   "cell_type": "code",
   "execution_count": 41,
   "metadata": {},
   "outputs": [
    {
     "name": "stdout",
     "output_type": "stream",
     "text": [
      "[51.52555456 51.92213693 51.90390185 75.52845522 48.29017327 42.40163662\n",
      " 55.65603119 66.24184444 53.81948264 64.74292498 50.2701309  74.3865711\n",
      " 53.20808117 54.66724378 40.73272805 60.87525341 52.1051314  87.09480006\n",
      " 44.68685385 47.78728749 42.91899665 65.83911066 54.31057144 54.0476727\n",
      " 74.01917675 61.57325191 61.01220903 79.54999273 53.83612275 50.23748012\n",
      " 43.21469123 65.68621339 59.51387063 65.10306563 50.61884126 74.99987738\n",
      " 58.15044191 65.64041696 76.44346637 68.93031628 51.78291085 64.35198756\n",
      " 43.31110636 52.65138914 57.84153867 65.08433707 42.05302509 56.11821043\n",
      " 43.76548772 68.92707177 56.75064002 47.27678585 58.88179716 66.50756933\n",
      " 62.99542788 56.96243476 65.51515334 63.6580981  59.40948778 49.38687146\n",
      " 57.53486211 72.10706655 47.92916384 56.81373802 40.29678876 58.12952966\n",
      " 31.82411573 64.14927644 68.60230995 43.20763862 60.75274641 47.63906519\n",
      " 58.72819484 56.14260134 50.46081894 68.12523075 82.57311965 67.37675913\n",
      " 71.47057384 59.99315054 62.94366842 68.03166229 69.70726919 57.39171531\n",
      " 52.73283118 63.95491112 45.4907156  56.7356689  70.57951944 76.30165619\n",
      " 57.67842541 67.11420202 46.58936177 45.84723191 62.31714365 55.36119345\n",
      " 60.61426363 49.50477306 47.53741746 51.31867888]\n"
     ]
    }
   ],
   "source": [
    "print(a)"
   ]
  },
  {
   "cell_type": "code",
   "execution_count": 42,
   "metadata": {},
   "outputs": [],
   "source": [
    "b=ag.round(a)"
   ]
  },
  {
   "cell_type": "code",
   "execution_count": 43,
   "metadata": {},
   "outputs": [],
   "source": [
    "c=ag.unique(b,return_counts=True)"
   ]
  },
  {
   "cell_type": "code",
   "execution_count": 44,
   "metadata": {},
   "outputs": [
    {
     "name": "stdout",
     "output_type": "stream",
     "text": [
      "(array([32., 40., 41., 42., 43., 44., 45., 46., 47., 48., 49., 50., 51.,\n",
      "       52., 53., 54., 55., 56., 57., 58., 59., 60., 61., 62., 63., 64.,\n",
      "       65., 66., 67., 68., 69., 70., 71., 72., 74., 75., 76., 80., 83.,\n",
      "       87.]), array([1, 1, 1, 2, 4, 1, 2, 1, 2, 5, 1, 4, 2, 5, 3, 4, 2, 3, 5, 5, 3, 2,\n",
      "       4, 2, 2, 4, 3, 5, 3, 2, 3, 1, 2, 1, 2, 1, 3, 1, 1, 1]))\n"
     ]
    }
   ],
   "source": [
    "print(c)"
   ]
  },
  {
   "cell_type": "code",
   "execution_count": 45,
   "metadata": {},
   "outputs": [
    {
     "data": {
      "image/png": "[encoded data removed]",
      "text/plain": [
       "<Figure size 432x288 with 1 Axes>"
      ]
     },
     "metadata": {
      "needs_background": "light"
     },
     "output_type": "display_data"
    }
   ],
   "source": [
    "af.hist(d,100)\n",
    "af.hist(a,100)\n",
    "af.show()"
   ]
  },
  {
   "cell_type": "code",
   "execution_count": 4,
   "metadata": {},
   "outputs": [
    {
     "name": "stderr",
     "output_type": "stream",
     "text": [
      "c:\\new folder\\lib\\site-packages\\ipykernel_launcher.py:1: RuntimeWarning: covariance is not symmetric positive-semidefinite.\n",
      "  \"\"\"Entry point for launching an IPython kernel.\n",
      "c:\\new folder\\lib\\site-packages\\ipykernel_launcher.py:2: RuntimeWarning: covariance is not symmetric positive-semidefinite.\n",
      "  \n"
     ]
    }
   ],
   "source": [
    "b=ag.random.multivariate_normal(mean=[9,10],cov=[[.3,-2.0],[-2.0,.7]],size=1000)\n",
    "c=ag.random.multivariate_normal(mean=[1,2],cov=[[.2,3],[3,1.2]],size=1200)"
   ]
  },
  {
   "cell_type": "code",
   "execution_count": 5,
   "metadata": {},
   "outputs": [
    {
     "name": "stdout",
     "output_type": "stream",
     "text": [
      "(1000, 2)\n",
      "[[ 9.57641027 11.05599024]\n",
      " [ 8.35815481  9.33522279]\n",
      " [ 7.8822004  10.55561125]\n",
      " ...\n",
      " [ 9.07063752 10.45722787]\n",
      " [11.51128538  8.34812624]\n",
      " [ 9.59713671  8.67099955]]\n"
     ]
    }
   ],
   "source": [
    "print(b.shape)\n",
    "print(b)"
   ]
  },
  {
   "cell_type": "code",
   "execution_count": 6,
   "metadata": {},
   "outputs": [
    {
     "data": {
      "image/png": "[encoded data removed]",
      "text/plain": [
       "<Figure size 432x288 with 1 Axes>"
      ]
     },
     "metadata": {
      "needs_background": "light"
     },
     "output_type": "display_data"
    }
   ],
   "source": [
    "af.scatter(b[:,0],b[:,1],color=\"red\",label=\"first plot MEN\")\n",
    "af.scatter(c[:,0],c[:,1],color=\"black\", label=\"second plot WOMEN\")\n",
    "af.title(\"love and lust\")\n",
    "af.xlabel(\"love\")\n",
    "af.ylabel(\"lust\")\n",
    "af.legend()\n",
    "af.show()"
   ]
  },
  {
   "cell_type": "markdown",
   "metadata": {},
   "source": [
    "prediction\n"
   ]
  },
  {
   "cell_type": "code",
   "execution_count": 7,
   "metadata": {},
   "outputs": [],
   "source": [
    "total =b.shape[0]+c.shape[0]"
   ]
  },
  {
   "cell_type": "code",
   "execution_count": 8,
   "metadata": {},
   "outputs": [
    {
     "name": "stdout",
     "output_type": "stream",
     "text": [
      "2200\n"
     ]
    }
   ],
   "source": [
    "print(total)"
   ]
  },
  {
   "cell_type": "code",
   "execution_count": 9,
   "metadata": {},
   "outputs": [],
   "source": [
    "d=ag.zeros([total,3])"
   ]
  },
  {
   "cell_type": "code",
   "execution_count": 10,
   "metadata": {},
   "outputs": [],
   "source": [
    "d[:1000,:-1]=b\n",
    "d[1000:,:-1]=c\n",
    "d[1000:,-1] = 1"
   ]
  },
  {
   "cell_type": "code",
   "execution_count": 11,
   "metadata": {},
   "outputs": [
    {
     "name": "stdout",
     "output_type": "stream",
     "text": [
      "[0. 0. 0. ... 1. 1. 1.]\n"
     ]
    }
   ],
   "source": [
    "xx=ag.array(d[:,:-1])\n",
    "xy=ag.array(d[:,-1])\n",
    "print(xy)"
   ]
  },
  {
   "cell_type": "code",
   "execution_count": 12,
   "metadata": {},
   "outputs": [],
   "source": [
    "test=ag.array([5,6])"
   ]
  },
  {
   "cell_type": "code",
   "execution_count": 13,
   "metadata": {},
   "outputs": [
    {
     "data": {
      "image/png": "[encoded data removed]",
      "text/plain": [
       "<Figure size 432x288 with 1 Axes>"
      ]
     },
     "metadata": {
      "needs_background": "light"
     },
     "output_type": "display_data"
    }
   ],
   "source": [
    "af.scatter(test[0],test[1],marker=\"*\",color=\"green\",label=\"point\")\n",
    "af.scatter(xx[:,0],xx[:,1],c=xy)\n",
    "af.show()"
   ]
  },
  {
   "cell_type": "code",
   "execution_count": 14,
   "metadata": {},
   "outputs": [],
   "source": [
    "def distance(p,q):\n",
    "    return ag.sum((q-p)**2)**.5"
   ]
  },
  {
   "cell_type": "code",
   "execution_count": 15,
   "metadata": {},
   "outputs": [],
   "source": [
    "def knn(x,y,test,k=6):\n",
    "    s=x.shape[0]\n",
    "    d=[]\n",
    "    for z in range(s):\n",
    "        dist=distance(test,x[z])\n",
    "        d.append((dist,y[z]))\n",
    "    f=ag.array(sorted(d))[:k]\n",
    "    td=ag.unique(f,return_counts=True)\n",
    "    print(td)\n",
    "    u=ag.argmax(td[1])\n",
    "    ans=td[0][u]\n",
    "    if ans==0:\n",
    "        return 'MEN'\n",
    "    else:\n",
    "        return 'WOMEN'"
   ]
  },
  {
   "cell_type": "code",
   "execution_count": 16,
   "metadata": {},
   "outputs": [
    {
     "name": "stdout",
     "output_type": "stream",
     "text": [
      "(array([0.        , 0.21890732, 0.27225938, 0.32682096, 0.32719147,\n",
      "       0.38598357, 0.56120563]), array([6, 1, 1, 1, 1, 1, 1]))\n"
     ]
    },
    {
     "data": {
      "text/plain": [
       "'MEN'"
      ]
     },
     "execution_count": 16,
     "metadata": {},
     "output_type": "execute_result"
    }
   ],
   "source": [
    "knn(xx,xy,test=ag.array([6,11]))"
   ]
  },
  {
   "cell_type": "code",
   "execution_count": null,
   "metadata": {},
   "outputs": [],
   "source": []
  },
  {
   "cell_type": "code",
   "execution_count": null,
   "metadata": {},
   "outputs": [],
   "source": []
  }
 ],
 "metadata": {
  "kernelspec": {
   "display_name": "Python 3",
   "language": "python",
   "name": "python3"
  },
  "language_info": {
   "codemirror_mode": {
    "name": "ipython",
    "version": 3
   },
   "file_extension": ".py",
   "mimetype": "text/x-python",
   "name": "python",
   "nbconvert_exporter": "python",
   "pygments_lexer": "ipython3",
   "version": "3.7.2"
  }
 },
 "nbformat": 4,
 "nbformat_minor": 2
}
