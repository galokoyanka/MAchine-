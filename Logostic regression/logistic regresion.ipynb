{
 "cells": [
  {
   "cell_type": "code",
   "execution_count": 34,
   "metadata": {},
   "outputs": [],
   "source": [
    "import numpy as np\n",
    "import matplotlib.pyplot as plt\n",
    "import pandas as pd"
   ]
  },
  {
   "cell_type": "code",
   "execution_count": 35,
   "metadata": {},
   "outputs": [],
   "source": [
    "mean_01=np.array([1.,0.5])\n",
    "cov_01=np.array([[1,0.1],[0.1,0.4]])\n",
    "\n",
    "mean_02=np.array([5,5.5])\n",
    "cov_02=np.array([[1.2,0.1],[0.1,0.3]])"
   ]
  },
  {
   "cell_type": "code",
   "execution_count": 36,
   "metadata": {},
   "outputs": [],
   "source": [
    "dist_01=np.random.multivariate_normal(mean_01,cov_01,400)\n",
    "dist_02=np.random.multivariate_normal(mean_02,cov_02,400)"
   ]
  },
  {
   "cell_type": "code",
   "execution_count": 37,
   "metadata": {},
   "outputs": [],
   "source": [
    "total=800"
   ]
  },
  {
   "cell_type": "code",
   "execution_count": 38,
   "metadata": {},
   "outputs": [],
   "source": [
    "np.random.shuffle(data)"
   ]
  },
  {
   "cell_type": "code",
   "execution_count": 39,
   "metadata": {},
   "outputs": [
    {
     "name": "stdout",
     "output_type": "stream",
     "text": [
      "(800, 2)\n"
     ]
    }
   ],
   "source": [
    "u=np.mean(data[:,:-1],axis=0)\n",
    "sigma=np.std(data[:,:-1],axis=0)\n",
    "data=(data[:,:-1]-u)/sigma\n",
    "print(data.shape)"
   ]
  },
  {
   "cell_type": "code",
   "execution_count": 40,
   "metadata": {},
   "outputs": [
    {
     "name": "stdout",
     "output_type": "stream",
     "text": [
      "[[ 1.          1.03108557  1.14276182]\n",
      " [ 1.         -0.63234338 -0.60332852]\n",
      " [ 1.         -1.09391456 -1.13838728]\n",
      " ...\n",
      " [ 1.         -0.46873707 -0.82759497]\n",
      " [ 1.         -0.86229554 -0.81349022]\n",
      " [ 1.         -1.27270342 -1.14157353]]\n"
     ]
    }
   ],
   "source": [
    "ones=np.ones((data.shape[0],1),dtype='float32')\n",
    "final_data=np.hstack((ones,data))\n",
    "print(final_data)"
   ]
  },
  {
   "cell_type": "code",
   "execution_count": 41,
   "metadata": {},
   "outputs": [],
   "source": [
    "data=np.zeros((800,3))"
   ]
  },
  {
   "cell_type": "code",
   "execution_count": 42,
   "metadata": {},
   "outputs": [],
   "source": [
    "data[:400,:-1]=dist_01\n",
    "data[400:,:-1]=dist_02\n",
    "data[400:,-1]=1"
   ]
  },
  {
   "cell_type": "code",
   "execution_count": 43,
   "metadata": {},
   "outputs": [
    {
     "name": "stdout",
     "output_type": "stream",
     "text": [
      "640\n"
     ]
    }
   ],
   "source": [
    "split=int(0.8*total)\n",
    "print(split)"
   ]
  },
  {
   "cell_type": "code",
   "execution_count": 44,
   "metadata": {},
   "outputs": [],
   "source": [
    "x_train=final_data[:split,:-1]\n",
    "x_test=final_data[split:,:-1]\n",
    "\n",
    "y_train=final_data[:split,:-1]\n",
    "y_test=final_data[split:,:-1]"
   ]
  },
  {
   "cell_type": "code",
   "execution_count": 45,
   "metadata": {},
   "outputs": [
    {
     "name": "stdout",
     "output_type": "stream",
     "text": [
      "(640, 2) (160, 2)\n",
      "(640, 2) (160, 2)\n"
     ]
    }
   ],
   "source": [
    "print(x_train.shape,x_test.shape)\n",
    "print(y_train.shape,y_test.shape)"
   ]
  },
  {
   "cell_type": "code",
   "execution_count": 50,
   "metadata": {},
   "outputs": [],
   "source": [
    "def sigmoid(z):\n",
    "    return 1/(1+np.exp(-z))"
   ]
  },
  {
   "cell_type": "code",
   "execution_count": 52,
   "metadata": {},
   "outputs": [],
   "source": [
    "def hypothesis(x,theta):\n",
    "    return sigmoid(np.dot(x,theta))"
   ]
  },
  {
   "cell_type": "code",
   "execution_count": 55,
   "metadata": {},
   "outputs": [],
   "source": [
    "def error(Y,X,theta):\n",
    "    m=x.shape[0]\n",
    "    total_error=0\n",
    "    for i in range(m):\n",
    "        y_hat-hypotheis(X[i],theta)\n",
    "        total_error+=-(Y[i]*np.log2(y_hat)+(1-Y[i])*np.log2(1-y_hat))\n",
    "    return total_error/m"
   ]
  },
  {
   "cell_type": "code",
   "execution_count": 59,
   "metadata": {},
   "outputs": [
    {
     "ename": "SyntaxError",
     "evalue": "invalid syntax (<ipython-input-59-29337591e04f>, line 6)",
     "output_type": "error",
     "traceback": [
      "\u001b[1;36m  File \u001b[1;32m\"<ipython-input-59-29337591e04f>\"\u001b[1;36m, line \u001b[1;32m6\u001b[0m\n\u001b[1;33m    x=grad+=(Y[i]-y_hat)*x\u001b[0m\n\u001b[1;37m           ^\u001b[0m\n\u001b[1;31mSyntaxError\u001b[0m\u001b[1;31m:\u001b[0m invalid syntax\n"
     ]
    }
   ],
   "source": [
    "def get_grad(Y,X,theta):\n",
    "    grad=np.zeros(theta.shape)\n",
    "    m=x.shape[0]\n",
    "    for i in range(m):\n",
    "        y_hat=hypothesis(X[i],theta)\n",
    "        x=grad+=(Y[i]-y_hat)*x\n",
    "    return grad/m"
   ]
  },
  {
   "cell_type": "code",
   "execution_count": 60,
   "metadata": {},
   "outputs": [],
   "source": [
    "def grad_descent(X,Y,learning_rate=0.1):\n",
    "    theta=np.zeros((X.shape[1],1))\n",
    "    error_list=[]\n",
    "    for i in range(50):\n",
    "        theta=theta-learning_rate*get_grad(X,Y,theta)\n",
    "        e=error(Y,X,theta)\n",
    "        error_list.append"
   ]
  },
  {
   "cell_type": "code",
   "execution_count": null,
   "metadata": {},
   "outputs": [],
   "source": []
  }
 ],
 "metadata": {
  "kernelspec": {
   "display_name": "Python 3",
   "language": "python",
   "name": "python3"
  },
  "language_info": {
   "codemirror_mode": {
    "name": "ipython",
    "version": 3
   },
   "file_extension": ".py",
   "mimetype": "text/x-python",
   "name": "python",
   "nbconvert_exporter": "python",
   "pygments_lexer": "ipython3",
   "version": "3.7.2"
  }
 },
 "nbformat": 4,
 "nbformat_minor": 2
}
