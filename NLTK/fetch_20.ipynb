{
 "cells": [
  {
   "cell_type": "code",
   "execution_count": 1,
   "metadata": {},
   "outputs": [],
   "source": [
    "from sklearn.datasets import fetch_20newsgroups\n",
    "import numpy as np"
   ]
  },
  {
   "cell_type": "code",
   "execution_count": 2,
   "metadata": {},
   "outputs": [],
   "source": [
    "newsgroup=fetch_20newsgroups()\n",
    "x=newsgroup.data\n",
    "y=newsgroup.target_names\n",
    "Y=newsgroup.target\n"
   ]
  },
  {
   "cell_type": "code",
   "execution_count": 3,
   "metadata": {},
   "outputs": [],
   "source": [
    "data=x[13]\n",
    "data1=x[16]\n",
    "data2=x[17]\n"
   ]
  },
  {
   "cell_type": "code",
   "execution_count": 4,
   "metadata": {},
   "outputs": [],
   "source": [
    "from nltk.tokenize import sent_tokenize,word_tokenize"
   ]
  },
  {
   "cell_type": "code",
   "execution_count": 5,
   "metadata": {},
   "outputs": [],
   "source": [
    "ss=sent_tokenize(data)[2:]\n",
    "sv=sent_tokenize(data1)[2:]\n",
    "sw=sent_tokenize(data2)[2:]"
   ]
  },
  {
   "cell_type": "code",
   "execution_count": 6,
   "metadata": {},
   "outputs": [],
   "source": [
    "from sklearn.model_selection import train_test_split\n",
    "for i in range(3):\n",
    "    pass\n",
    "data_train1,data_test1=train_test_split(ss)\n",
    "data_train2,data_test2=train_test_split(sv)\n",
    "data_train3,data_test3=train_test_split(sw)\n"
   ]
  },
  {
   "cell_type": "code",
   "execution_count": 8,
   "metadata": {},
   "outputs": [],
   "source": [
    "def tok(data):\n",
    "    ss=[]\n",
    "    for i in range(len(data)):\n",
    "        a=word_tokenize(data[i])\n",
    "        ss.append(a)\n",
    "    return ss\n",
    "s1tr=tok(data_train1)\n",
    "s1te=tok(data_test1)\n",
    "s2tr=tok(data_train2)\n",
    "s2te=tok(data_test2)\n",
    "s3tr=tok(data_train3)\n",
    "s3te=tok(data_test3)"
   ]
  },
  {
   "cell_type": "code",
   "execution_count": 11,
   "metadata": {},
   "outputs": [],
   "source": [
    "from nltk.corpus import stopwords\n",
    "ss=set(stopwords.words('english'))\n",
    "def sto(data):\n",
    "    a=[]\n",
    "    for i in range(len(data)):\n",
    "        useful_words=[w for w in data[i] if w not in ss]\n",
    "        a.append(useful_words)\n",
    "    return a\n",
    "s1tr=sto(s1tr)\n",
    "s2tr=sto(s2tr)\n",
    "s3tr=sto(s3tr)\n",
    "s1te=sto(s1te)\n",
    "s12te=sto(s2te)\n",
    "s3te=sto(s3te)"
   ]
  },
  {
   "cell_type": "code",
   "execution_count": 12,
   "metadata": {},
   "outputs": [
    {
     "name": "stdout",
     "output_type": "stream",
     "text": [
      "[]\n"
     ]
    }
   ],
   "source": [
    "print(s1tr)"
   ]
  },
  {
   "cell_type": "code",
   "execution_count": null,
   "metadata": {},
   "outputs": [],
   "source": []
  }
 ],
 "metadata": {
  "kernelspec": {
   "display_name": "Python 3",
   "language": "python",
   "name": "python3"
  },
  "language_info": {
   "codemirror_mode": {
    "name": "ipython",
    "version": 3
   },
   "file_extension": ".py",
   "mimetype": "text/x-python",
   "name": "python",
   "nbconvert_exporter": "python",
   "pygments_lexer": "ipython3",
   "version": "3.7.2"
  }
 },
 "nbformat": 4,
 "nbformat_minor": 2
}
