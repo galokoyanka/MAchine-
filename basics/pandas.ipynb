{
 "cells": [
  {
   "cell_type": "code",
   "execution_count": 19,
   "metadata": {},
   "outputs": [
    {
     "name": "stdout",
     "output_type": "stream",
     "text": [
      "Requirement already satisfied: pandas in c:\\new folder\\lib\\site-packages (0.24.2)\n",
      "Requirement already satisfied: pytz>=2011k in c:\\new folder\\lib\\site-packages (from pandas) (2019.1)\n",
      "Requirement already satisfied: numpy>=1.12.0 in c:\\new folder\\lib\\site-packages (from pandas) (1.16.2)\n",
      "Requirement already satisfied: python-dateutil>=2.5.0 in c:\\new folder\\lib\\site-packages (from pandas) (2.8.0)\n",
      "Requirement already satisfied: six>=1.5 in c:\\new folder\\lib\\site-packages (from python-dateutil>=2.5.0->pandas) (1.12.0)\n"
     ]
    },
    {
     "name": "stderr",
     "output_type": "stream",
     "text": [
      "You are using pip version 18.1, however version 19.1.1 is available.\n",
      "You should consider upgrading via the 'python -m pip install --upgrade pip' command.\n"
     ]
    }
   ],
   "source": [
    "!pip install pandas\n"
   ]
  },
  {
   "cell_type": "code",
   "execution_count": 63,
   "metadata": {},
   "outputs": [],
   "source": [
    "import pandas as pd"
   ]
  },
  {
   "cell_type": "code",
   "execution_count": 64,
   "metadata": {},
   "outputs": [],
   "source": [
    "df=pd.read_csv(\"Dataset/movie_metadata.csv\")"
   ]
  },
  {
   "cell_type": "code",
   "execution_count": 65,
   "metadata": {},
   "outputs": [
    {
     "name": "stdout",
     "output_type": "stream",
     "text": [
      "                 color       director_name  num_critic_for_reviews  duration  \\\n",
      "0                Color       James Cameron                   723.0     178.0   \n",
      "1                Color      Gore Verbinski                   302.0     169.0   \n",
      "2                Color          Sam Mendes                   602.0     148.0   \n",
      "3                Color   Christopher Nolan                   813.0     164.0   \n",
      "4                  NaN         Doug Walker                     NaN       NaN   \n",
      "5                Color      Andrew Stanton                   462.0     132.0   \n",
      "6                Color           Sam Raimi                   392.0     156.0   \n",
      "7                Color        Nathan Greno                   324.0     100.0   \n",
      "8                Color         Joss Whedon                   635.0     141.0   \n",
      "9                Color         David Yates                   375.0     153.0   \n",
      "10               Color         Zack Snyder                   673.0     183.0   \n",
      "11               Color        Bryan Singer                   434.0     169.0   \n",
      "12               Color        Marc Forster                   403.0     106.0   \n",
      "13               Color      Gore Verbinski                   313.0     151.0   \n",
      "14               Color      Gore Verbinski                   450.0     150.0   \n",
      "15               Color         Zack Snyder                   733.0     143.0   \n",
      "16               Color      Andrew Adamson                   258.0     150.0   \n",
      "17               Color         Joss Whedon                   703.0     173.0   \n",
      "18               Color        Rob Marshall                   448.0     136.0   \n",
      "19               Color    Barry Sonnenfeld                   451.0     106.0   \n",
      "20               Color       Peter Jackson                   422.0     164.0   \n",
      "21               Color           Marc Webb                   599.0     153.0   \n",
      "22               Color        Ridley Scott                   343.0     156.0   \n",
      "23               Color       Peter Jackson                   509.0     186.0   \n",
      "24               Color         Chris Weitz                   251.0     113.0   \n",
      "25               Color       Peter Jackson                   446.0     201.0   \n",
      "26               Color       James Cameron                   315.0     194.0   \n",
      "27               Color       Anthony Russo                   516.0     147.0   \n",
      "28               Color          Peter Berg                   377.0     131.0   \n",
      "29               Color     Colin Trevorrow                   644.0     124.0   \n",
      "...                ...                 ...                     ...       ...   \n",
      "5013             Color          Eric Eason                    28.0      79.0   \n",
      "5014             Color            Uwe Boll                    58.0      80.0   \n",
      "5015   Black and White   Richard Linklater                    61.0     100.0   \n",
      "5016             Color     Joseph Mazzella                     NaN      90.0   \n",
      "5017             Color        Travis Legge                     1.0      90.0   \n",
      "5018             Color       Alex Kendrick                     5.0     120.0   \n",
      "5019             Color       Marcus Nispel                    43.0      91.0   \n",
      "5020               NaN     Brandon Landers                     NaN     143.0   \n",
      "5021             Color         Jay Duplass                    51.0      85.0   \n",
      "5022   Black and White          Jim Chuchu                     6.0      60.0   \n",
      "5023             Color          Daryl Wein                    22.0      88.0   \n",
      "5024             Color         Jason Trost                    42.0      78.0   \n",
      "5025             Color         John Waters                    73.0     108.0   \n",
      "5026             Color     Olivier Assayas                    81.0     110.0   \n",
      "5027             Color        Jafar Panahi                    64.0      90.0   \n",
      "5028   Black and White       Ivan Kavanagh                    12.0      83.0   \n",
      "5029             Color    Kiyoshi Kurosawa                    78.0     111.0   \n",
      "5030             Color        Tadeo Garcia                     NaN      84.0   \n",
      "5031             Color  Thomas L. Phillips                    13.0      82.0   \n",
      "5032             Color     Ash Baron-Cohen                    10.0      98.0   \n",
      "5033             Color       Shane Carruth                   143.0      77.0   \n",
      "5034             Color    Neill Dela Llana                    35.0      80.0   \n",
      "5035             Color    Robert Rodriguez                    56.0      81.0   \n",
      "5036             Color     Anthony Vallone                     NaN      84.0   \n",
      "5037             Color        Edward Burns                    14.0      95.0   \n",
      "5038             Color         Scott Smith                     1.0      87.0   \n",
      "5039             Color                 NaN                    43.0      43.0   \n",
      "5040             Color    Benjamin Roberds                    13.0      76.0   \n",
      "5041             Color         Daniel Hsia                    14.0     100.0   \n",
      "5042             Color            Jon Gunn                    43.0      90.0   \n",
      "\n",
      "      director_facebook_likes  actor_3_facebook_likes          actor_2_name  \\\n",
      "0                         0.0                   855.0      Joel David Moore   \n",
      "1                       563.0                  1000.0         Orlando Bloom   \n",
      "2                         0.0                   161.0          Rory Kinnear   \n",
      "3                     22000.0                 23000.0        Christian Bale   \n",
      "4                       131.0                     NaN            Rob Walker   \n",
      "5                       475.0                   530.0       Samantha Morton   \n",
      "6                         0.0                  4000.0          James Franco   \n",
      "7                        15.0                   284.0          Donna Murphy   \n",
      "8                         0.0                 19000.0     Robert Downey Jr.   \n",
      "9                       282.0                 10000.0      Daniel Radcliffe   \n",
      "10                        0.0                  2000.0          Lauren Cohan   \n",
      "11                        0.0                   903.0         Marlon Brando   \n",
      "12                      395.0                   393.0       Mathieu Amalric   \n",
      "13                      563.0                  1000.0         Orlando Bloom   \n",
      "14                      563.0                  1000.0           Ruth Wilson   \n",
      "15                        0.0                   748.0    Christopher Meloni   \n",
      "16                       80.0                   201.0  Pierfrancesco Favino   \n",
      "17                        0.0                 19000.0     Robert Downey Jr.   \n",
      "18                      252.0                  1000.0           Sam Claflin   \n",
      "19                      188.0                   718.0     Michael Stuhlbarg   \n",
      "20                        0.0                   773.0            Adam Brown   \n",
      "21                      464.0                   963.0       Andrew Garfield   \n",
      "22                        0.0                   738.0          William Hurt   \n",
      "23                        0.0                   773.0            Adam Brown   \n",
      "24                      129.0                  1000.0             Eva Green   \n",
      "25                        0.0                    84.0    Thomas Kretschmann   \n",
      "26                        0.0                   794.0          Kate Winslet   \n",
      "27                       94.0                 11000.0    Scarlett Johansson   \n",
      "28                      532.0                   627.0   Alexander Skarsgård   \n",
      "29                      365.0                  1000.0            Judy Greer   \n",
      "...                       ...                     ...                   ...   \n",
      "5013                      3.0                    42.0        Panchito Gómez   \n",
      "5014                    892.0                   492.0    Katharine Isabelle   \n",
      "5015                      0.0                     0.0     Richard Linklater   \n",
      "5016                      0.0                     9.0          Mikaal Bates   \n",
      "5017                    138.0                   138.0         Suzi Lorraine   \n",
      "5018                    589.0                     4.0           Lisa Arnold   \n",
      "5019                    158.0                   265.0       Brittany Curran   \n",
      "5020                      8.0                     8.0       Alana Kaniewski   \n",
      "5021                    157.0                    10.0         Katie Aselton   \n",
      "5022                      0.0                     4.0         Olwenya Maina   \n",
      "5023                     38.0                   211.0         Heather Burns   \n",
      "5024                     91.0                    86.0           Jason Trost   \n",
      "5025                      0.0                   105.0            Mink Stole   \n",
      "5026                    107.0                    45.0        Béatrice Dalle   \n",
      "5027                    397.0                     0.0     Nargess Mamizadeh   \n",
      "5028                     18.0                     0.0         Michael Parle   \n",
      "5029                     62.0                     6.0         Anna Nakagawa   \n",
      "5030                      5.0                    12.0        Michael Cortez   \n",
      "5031                    120.0                    84.0            Joe Coffey   \n",
      "5032                      3.0                   152.0     Stanley B. Herman   \n",
      "5033                    291.0                     8.0        David Sullivan   \n",
      "5034                      0.0                     0.0       Edgar Tancangco   \n",
      "5035                      0.0                     6.0       Peter Marquardt   \n",
      "5036                      2.0                     2.0        John Considine   \n",
      "5037                      0.0                   133.0    Caitlin FitzGerald   \n",
      "5038                      2.0                   318.0         Daphne Zuniga   \n",
      "5039                      NaN                   319.0         Valorie Curry   \n",
      "5040                      0.0                     0.0         Maxwell Moody   \n",
      "5041                      0.0                   489.0         Daniel Henney   \n",
      "5042                     16.0                    16.0      Brian Herzlinger   \n",
      "\n",
      "      actor_1_facebook_likes        gross  \\\n",
      "0                     1000.0  760505847.0   \n",
      "1                    40000.0  309404152.0   \n",
      "2                    11000.0  200074175.0   \n",
      "3                    27000.0  448130642.0   \n",
      "4                      131.0          NaN   \n",
      "5                      640.0   73058679.0   \n",
      "6                    24000.0  336530303.0   \n",
      "7                      799.0  200807262.0   \n",
      "8                    26000.0  458991599.0   \n",
      "9                    25000.0  301956980.0   \n",
      "10                   15000.0  330249062.0   \n",
      "11                   18000.0  200069408.0   \n",
      "12                     451.0  168368427.0   \n",
      "13                   40000.0  423032628.0   \n",
      "14                   40000.0   89289910.0   \n",
      "15                   15000.0  291021565.0   \n",
      "16                   22000.0  141614023.0   \n",
      "17                   26000.0  623279547.0   \n",
      "18                   40000.0  241063875.0   \n",
      "19                   10000.0  179020854.0   \n",
      "20                    5000.0  255108370.0   \n",
      "21                   15000.0  262030663.0   \n",
      "22                     891.0  105219735.0   \n",
      "23                    5000.0  258355354.0   \n",
      "24                   16000.0   70083519.0   \n",
      "25                    6000.0  218051260.0   \n",
      "26                   29000.0  658672302.0   \n",
      "27                   21000.0  407197282.0   \n",
      "28                   14000.0   65173160.0   \n",
      "29                    3000.0  652177271.0   \n",
      "...                      ...          ...   \n",
      "5013                    93.0          NaN   \n",
      "5014                   986.0          NaN   \n",
      "5015                     5.0    1227508.0   \n",
      "5016                   313.0          NaN   \n",
      "5017                   370.0          NaN   \n",
      "5018                    51.0          NaN   \n",
      "5019                   630.0          NaN   \n",
      "5020                   720.0          NaN   \n",
      "5021                   830.0     192467.0   \n",
      "5022                   147.0          NaN   \n",
      "5023                   331.0      76382.0   \n",
      "5024                   407.0          NaN   \n",
      "5025                   462.0     180483.0   \n",
      "5026                   576.0     136007.0   \n",
      "5027                     5.0     673780.0   \n",
      "5028                    10.0          NaN   \n",
      "5029                    89.0      94596.0   \n",
      "5030                    21.0          NaN   \n",
      "5031                   785.0          NaN   \n",
      "5032                   789.0          NaN   \n",
      "5033                   291.0     424760.0   \n",
      "5034                     0.0      70071.0   \n",
      "5035                   121.0    2040920.0   \n",
      "5036                    45.0          NaN   \n",
      "5037                   296.0       4584.0   \n",
      "5038                   637.0          NaN   \n",
      "5039                   841.0          NaN   \n",
      "5040                     0.0          NaN   \n",
      "5041                   946.0      10443.0   \n",
      "5042                    86.0      85222.0   \n",
      "\n",
      "                                                 genres  ...  \\\n",
      "0                       Action|Adventure|Fantasy|Sci-Fi  ...   \n",
      "1                              Action|Adventure|Fantasy  ...   \n",
      "2                             Action|Adventure|Thriller  ...   \n",
      "3                                       Action|Thriller  ...   \n",
      "4                                           Documentary  ...   \n",
      "5                               Action|Adventure|Sci-Fi  ...   \n",
      "6                              Action|Adventure|Romance  ...   \n",
      "7     Adventure|Animation|Comedy|Family|Fantasy|Musi...  ...   \n",
      "8                               Action|Adventure|Sci-Fi  ...   \n",
      "9                      Adventure|Family|Fantasy|Mystery  ...   \n",
      "10                              Action|Adventure|Sci-Fi  ...   \n",
      "11                              Action|Adventure|Sci-Fi  ...   \n",
      "12                                     Action|Adventure  ...   \n",
      "13                             Action|Adventure|Fantasy  ...   \n",
      "14                             Action|Adventure|Western  ...   \n",
      "15                      Action|Adventure|Fantasy|Sci-Fi  ...   \n",
      "16                      Action|Adventure|Family|Fantasy  ...   \n",
      "17                              Action|Adventure|Sci-Fi  ...   \n",
      "18                             Action|Adventure|Fantasy  ...   \n",
      "19        Action|Adventure|Comedy|Family|Fantasy|Sci-Fi  ...   \n",
      "20                                    Adventure|Fantasy  ...   \n",
      "21                             Action|Adventure|Fantasy  ...   \n",
      "22                       Action|Adventure|Drama|History  ...   \n",
      "23                                    Adventure|Fantasy  ...   \n",
      "24                             Adventure|Family|Fantasy  ...   \n",
      "25                       Action|Adventure|Drama|Romance  ...   \n",
      "26                                        Drama|Romance  ...   \n",
      "27                              Action|Adventure|Sci-Fi  ...   \n",
      "28                     Action|Adventure|Sci-Fi|Thriller  ...   \n",
      "29                     Action|Adventure|Sci-Fi|Thriller  ...   \n",
      "...                                                 ...  ...   \n",
      "5013                                       Drama|Family  ...   \n",
      "5014                              Action|Crime|Thriller  ...   \n",
      "5015                                       Comedy|Drama  ...   \n",
      "5016                               Crime|Drama|Thriller  ...   \n",
      "5017                                     Comedy|Romance  ...   \n",
      "5018                                              Drama  ...   \n",
      "5019                            Horror|Mystery|Thriller  ...   \n",
      "5020                              Drama|Horror|Thriller  ...   \n",
      "5021                               Comedy|Drama|Romance  ...   \n",
      "5022                                              Drama  ...   \n",
      "5023                                            Romance  ...   \n",
      "5024                                    Sci-Fi|Thriller  ...   \n",
      "5025                                Comedy|Crime|Horror  ...   \n",
      "5026                                Drama|Music|Romance  ...   \n",
      "5027                                              Drama  ...   \n",
      "5028                                             Horror  ...   \n",
      "5029                      Crime|Horror|Mystery|Thriller  ...   \n",
      "5030                                              Drama  ...   \n",
      "5031                             Comedy|Horror|Thriller  ...   \n",
      "5032                                        Crime|Drama  ...   \n",
      "5033                              Drama|Sci-Fi|Thriller  ...   \n",
      "5034                                           Thriller  ...   \n",
      "5035                Action|Crime|Drama|Romance|Thriller  ...   \n",
      "5036                                        Crime|Drama  ...   \n",
      "5037                                       Comedy|Drama  ...   \n",
      "5038                                       Comedy|Drama  ...   \n",
      "5039                       Crime|Drama|Mystery|Thriller  ...   \n",
      "5040                              Drama|Horror|Thriller  ...   \n",
      "5041                               Comedy|Drama|Romance  ...   \n",
      "5042                                        Documentary  ...   \n",
      "\n",
      "     num_user_for_reviews  language      country  content_rating       budget  \\\n",
      "0                  3054.0   English          USA           PG-13  237000000.0   \n",
      "1                  1238.0   English          USA           PG-13  300000000.0   \n",
      "2                   994.0   English           UK           PG-13  245000000.0   \n",
      "3                  2701.0   English          USA           PG-13  250000000.0   \n",
      "4                     NaN       NaN          NaN             NaN          NaN   \n",
      "5                   738.0   English          USA           PG-13  263700000.0   \n",
      "6                  1902.0   English          USA           PG-13  258000000.0   \n",
      "7                   387.0   English          USA              PG  260000000.0   \n",
      "8                  1117.0   English          USA           PG-13  250000000.0   \n",
      "9                   973.0   English           UK              PG  250000000.0   \n",
      "10                 3018.0   English          USA           PG-13  250000000.0   \n",
      "11                 2367.0   English          USA           PG-13  209000000.0   \n",
      "12                 1243.0   English           UK           PG-13  200000000.0   \n",
      "13                 1832.0   English          USA           PG-13  225000000.0   \n",
      "14                  711.0   English          USA           PG-13  215000000.0   \n",
      "15                 2536.0   English          USA           PG-13  225000000.0   \n",
      "16                  438.0   English          USA              PG  225000000.0   \n",
      "17                 1722.0   English          USA           PG-13  220000000.0   \n",
      "18                  484.0   English          USA           PG-13  250000000.0   \n",
      "19                  341.0   English          USA           PG-13  225000000.0   \n",
      "20                  802.0   English  New Zealand           PG-13  250000000.0   \n",
      "21                 1225.0   English          USA           PG-13  230000000.0   \n",
      "22                  546.0   English          USA           PG-13  200000000.0   \n",
      "23                  951.0   English          USA           PG-13  225000000.0   \n",
      "24                  666.0   English          USA           PG-13  180000000.0   \n",
      "25                 2618.0   English  New Zealand           PG-13  207000000.0   \n",
      "26                 2528.0   English          USA           PG-13  200000000.0   \n",
      "27                 1022.0   English          USA           PG-13  250000000.0   \n",
      "28                  751.0   English          USA           PG-13  209000000.0   \n",
      "29                 1290.0   English          USA           PG-13  150000000.0   \n",
      "...                   ...       ...          ...             ...          ...   \n",
      "5013                 21.0   English          USA             NaN      24000.0   \n",
      "5014                129.0   English       Canada               R          NaN   \n",
      "5015                 80.0   English          USA               R      23000.0   \n",
      "5016                  2.0   English          USA             NaN      25000.0   \n",
      "5017                  3.0   English          USA             NaN      22000.0   \n",
      "5018                 49.0   English          USA             NaN      20000.0   \n",
      "5019                 33.0   English          USA               R          NaN   \n",
      "5020                  8.0   English          USA             NaN      17350.0   \n",
      "5021                 71.0   English          USA               R      15000.0   \n",
      "5022                  1.0   Swahili        Kenya             NaN      15000.0   \n",
      "5023                  8.0   English          USA             NaN      15000.0   \n",
      "5024                 35.0   English          USA         Unrated      20000.0   \n",
      "5025                183.0   English          USA           NC-17      10000.0   \n",
      "5026                 39.0    French       France               R       4500.0   \n",
      "5027                 26.0   Persian         Iran       Not Rated      10000.0   \n",
      "5028                  1.0   English      Ireland             NaN      10000.0   \n",
      "5029                 50.0  Japanese        Japan             NaN    1000000.0   \n",
      "5030                  3.0   English          USA             NaN          NaN   \n",
      "5031                  8.0   English          USA             NaN     200000.0   \n",
      "5032                 14.0   English          USA             NaN          NaN   \n",
      "5033                371.0   English          USA           PG-13       7000.0   \n",
      "5034                 35.0   English  Philippines       Not Rated       7000.0   \n",
      "5035                130.0   Spanish          USA               R       7000.0   \n",
      "5036                  1.0   English          USA           PG-13       3250.0   \n",
      "5037                 14.0   English          USA       Not Rated       9000.0   \n",
      "5038                  6.0   English       Canada             NaN          NaN   \n",
      "5039                359.0   English          USA           TV-14          NaN   \n",
      "5040                  3.0   English          USA             NaN       1400.0   \n",
      "5041                  9.0   English          USA           PG-13          NaN   \n",
      "5042                 84.0   English          USA              PG       1100.0   \n",
      "\n",
      "      title_year actor_2_facebook_likes imdb_score  aspect_ratio  \\\n",
      "0         2009.0                  936.0        7.9          1.78   \n",
      "1         2007.0                 5000.0        7.1          2.35   \n",
      "2         2015.0                  393.0        6.8          2.35   \n",
      "3         2012.0                23000.0        8.5          2.35   \n",
      "4            NaN                   12.0        7.1           NaN   \n",
      "5         2012.0                  632.0        6.6          2.35   \n",
      "6         2007.0                11000.0        6.2          2.35   \n",
      "7         2010.0                  553.0        7.8          1.85   \n",
      "8         2015.0                21000.0        7.5          2.35   \n",
      "9         2009.0                11000.0        7.5          2.35   \n",
      "10        2016.0                 4000.0        6.9          2.35   \n",
      "11        2006.0                10000.0        6.1          2.35   \n",
      "12        2008.0                  412.0        6.7          2.35   \n",
      "13        2006.0                 5000.0        7.3          2.35   \n",
      "14        2013.0                 2000.0        6.5          2.35   \n",
      "15        2013.0                 3000.0        7.2          2.35   \n",
      "16        2008.0                  216.0        6.6          2.35   \n",
      "17        2012.0                21000.0        8.1          1.85   \n",
      "18        2011.0                11000.0        6.7          2.35   \n",
      "19        2012.0                  816.0        6.8          1.85   \n",
      "20        2014.0                  972.0        7.5          2.35   \n",
      "21        2012.0                10000.0        7.0          2.35   \n",
      "22        2010.0                  882.0        6.7          2.35   \n",
      "23        2013.0                  972.0        7.9          2.35   \n",
      "24        2007.0                 6000.0        6.1          2.35   \n",
      "25        2005.0                  919.0        7.2          2.35   \n",
      "26        1997.0                14000.0        7.7          2.35   \n",
      "27        2016.0                19000.0        8.2          2.35   \n",
      "28        2012.0                10000.0        5.9          2.35   \n",
      "29        2015.0                 2000.0        7.0          2.00   \n",
      "...          ...                    ...        ...           ...   \n",
      "5013      2002.0                   46.0        7.0          1.78   \n",
      "5014      2009.0                  918.0        6.3          2.35   \n",
      "5015      1991.0                    0.0        7.1          1.37   \n",
      "5016      2015.0                   25.0        4.8           NaN   \n",
      "5017      2013.0                  184.0        3.3          1.78   \n",
      "5018      2003.0                   49.0        6.9          1.85   \n",
      "5019      2015.0                  512.0        4.6          1.85   \n",
      "5020      2011.0                   19.0        3.0           NaN   \n",
      "5021      2005.0                  224.0        6.6           NaN   \n",
      "5022      2014.0                   19.0        7.4           NaN   \n",
      "5023      2009.0                  212.0        6.2          2.35   \n",
      "5024      2011.0                   91.0        4.0          2.35   \n",
      "5025      1972.0                  143.0        6.1          1.37   \n",
      "5026      2004.0                  133.0        6.9          2.35   \n",
      "5027      2000.0                    0.0        7.5          1.85   \n",
      "5028      2007.0                    5.0        6.7          1.33   \n",
      "5029      1997.0                   13.0        7.4          1.85   \n",
      "5030      2004.0                   20.0        6.1           NaN   \n",
      "5031      2012.0                   98.0        5.4         16.00   \n",
      "5032      1995.0                  194.0        6.4           NaN   \n",
      "5033      2004.0                   45.0        7.0          1.85   \n",
      "5034      2005.0                    0.0        6.3           NaN   \n",
      "5035      1992.0                   20.0        6.9          1.37   \n",
      "5036      2005.0                   44.0        7.8           NaN   \n",
      "5037      2011.0                  205.0        6.4           NaN   \n",
      "5038      2013.0                  470.0        7.7           NaN   \n",
      "5039         NaN                  593.0        7.5         16.00   \n",
      "5040      2013.0                    0.0        6.3           NaN   \n",
      "5041      2012.0                  719.0        6.3          2.35   \n",
      "5042      2004.0                   23.0        6.6          1.85   \n",
      "\n",
      "     movie_facebook_likes  \n",
      "0                   33000  \n",
      "1                       0  \n",
      "2                   85000  \n",
      "3                  164000  \n",
      "4                       0  \n",
      "5                   24000  \n",
      "6                       0  \n",
      "7                   29000  \n",
      "8                  118000  \n",
      "9                   10000  \n",
      "10                 197000  \n",
      "11                      0  \n",
      "12                      0  \n",
      "13                   5000  \n",
      "14                  48000  \n",
      "15                 118000  \n",
      "16                      0  \n",
      "17                 123000  \n",
      "18                  58000  \n",
      "19                  40000  \n",
      "20                  65000  \n",
      "21                  56000  \n",
      "22                  17000  \n",
      "23                  83000  \n",
      "24                      0  \n",
      "25                      0  \n",
      "26                  26000  \n",
      "27                  72000  \n",
      "28                  44000  \n",
      "29                 150000  \n",
      "...                   ...  \n",
      "5013                   61  \n",
      "5014                    0  \n",
      "5015                 2000  \n",
      "5016                   33  \n",
      "5017                  200  \n",
      "5018                  725  \n",
      "5019                    0  \n",
      "5020                   33  \n",
      "5021                  297  \n",
      "5022                   45  \n",
      "5023                  324  \n",
      "5024                  835  \n",
      "5025                    0  \n",
      "5026                  171  \n",
      "5027                  697  \n",
      "5028                  105  \n",
      "5029                  817  \n",
      "5030                   22  \n",
      "5031                  424  \n",
      "5032                   20  \n",
      "5033                19000  \n",
      "5034                   74  \n",
      "5035                    0  \n",
      "5036                    4  \n",
      "5037                  413  \n",
      "5038                   84  \n",
      "5039                32000  \n",
      "5040                   16  \n",
      "5041                  660  \n",
      "5042                  456  \n",
      "\n",
      "[5043 rows x 28 columns]\n"
     ]
    }
   ],
   "source": [
    "\n",
    "\n",
    "print(df)"
   ]
  },
  {
   "cell_type": "code",
   "execution_count": 66,
   "metadata": {},
   "outputs": [
    {
     "name": "stdout",
     "output_type": "stream",
     "text": [
      "0                                                 Avatar \n",
      "1               Pirates of the Caribbean: At World's End \n",
      "2                                                Spectre \n",
      "3                                  The Dark Knight Rises \n",
      "4       Star Wars: Episode VII - The Force Awakens    ...\n",
      "5                                            John Carter \n",
      "6                                           Spider-Man 3 \n",
      "7                                                Tangled \n",
      "8                                Avengers: Age of Ultron \n",
      "9                 Harry Potter and the Half-Blood Prince \n",
      "10                    Batman v Superman: Dawn of Justice \n",
      "11                                      Superman Returns \n",
      "12                                     Quantum of Solace \n",
      "13            Pirates of the Caribbean: Dead Man's Chest \n",
      "14                                       The Lone Ranger \n",
      "15                                          Man of Steel \n",
      "16              The Chronicles of Narnia: Prince Caspian \n",
      "17                                          The Avengers \n",
      "18           Pirates of the Caribbean: On Stranger Tides \n",
      "19                                        Men in Black 3 \n",
      "20             The Hobbit: The Battle of the Five Armies \n",
      "21                                The Amazing Spider-Man \n",
      "22                                            Robin Hood \n",
      "23                   The Hobbit: The Desolation of Smaug \n",
      "24                                    The Golden Compass \n",
      "25                                             King Kong \n",
      "26                                               Titanic \n",
      "27                            Captain America: Civil War \n",
      "28                                            Battleship \n",
      "29                                        Jurassic World \n",
      "                              ...                        \n",
      "5013                                              Manito \n",
      "5014                                             Rampage \n",
      "5015                                             Slacker \n",
      "5016                                         Dutch Kills \n",
      "5017                                           Dry Spell \n",
      "5018                                            Flywheel \n",
      "5019                                              Exeter \n",
      "5020                                          The Ridges \n",
      "5021                                     The Puffy Chair \n",
      "5022                                Stories of Our Lives \n",
      "5023                                    Breaking Upwards \n",
      "5024                            All Superheroes Must Die \n",
      "5025                                      Pink Flamingos \n",
      "5026                                               Clean \n",
      "5027                                          The Circle \n",
      "5028                                         Tin Can Man \n",
      "5029                                            The Cure \n",
      "5030                                      On the Downlow \n",
      "5031                        Sanctuary; Quite a Conundrum \n",
      "5032                                                Bang \n",
      "5033                                              Primer \n",
      "5034                                              Cavite \n",
      "5035                                         El Mariachi \n",
      "5036                                     The Mongol King \n",
      "5037                                           Newlyweds \n",
      "5038                             Signed Sealed Delivered \n",
      "5039                           The Following             \n",
      "5040                                A Plague So Pleasant \n",
      "5041                                    Shanghai Calling \n",
      "5042                                   My Date with Drew \n",
      "Name: movie_title, Length: 5043, dtype: object\n"
     ]
    }
   ],
   "source": [
    "print(df['movie_title'])"
   ]
  },
  {
   "cell_type": "code",
   "execution_count": 67,
   "metadata": {},
   "outputs": [
    {
     "name": "stdout",
     "output_type": "stream",
     "text": [
      "<class 'pandas.core.frame.DataFrame'>\n",
      "RangeIndex: 5043 entries, 0 to 5042\n",
      "Data columns (total 28 columns):\n",
      "color                        5024 non-null object\n",
      "director_name                4939 non-null object\n",
      "num_critic_for_reviews       4993 non-null float64\n",
      "duration                     5028 non-null float64\n",
      "director_facebook_likes      4939 non-null float64\n",
      "actor_3_facebook_likes       5020 non-null float64\n",
      "actor_2_name                 5030 non-null object\n",
      "actor_1_facebook_likes       5036 non-null float64\n",
      "gross                        4159 non-null float64\n",
      "genres                       5043 non-null object\n",
      "actor_1_name                 5036 non-null object\n",
      "movie_title                  5043 non-null object\n",
      "num_voted_users              5043 non-null int64\n",
      "cast_total_facebook_likes    5043 non-null int64\n",
      "actor_3_name                 5020 non-null object\n",
      "facenumber_in_poster         5030 non-null float64\n",
      "plot_keywords                4890 non-null object\n",
      "movie_imdb_link              5043 non-null object\n",
      "num_user_for_reviews         5022 non-null float64\n",
      "language                     5031 non-null object\n",
      "country                      5038 non-null object\n",
      "content_rating               4740 non-null object\n",
      "budget                       4551 non-null float64\n",
      "title_year                   4935 non-null float64\n",
      "actor_2_facebook_likes       5030 non-null float64\n",
      "imdb_score                   5043 non-null float64\n",
      "aspect_ratio                 4714 non-null float64\n",
      "movie_facebook_likes         5043 non-null int64\n",
      "dtypes: float64(13), int64(3), object(12)\n",
      "memory usage: 866.8+ KB\n"
     ]
    }
   ],
   "source": [
    "df.info()"
   ]
  },
  {
   "cell_type": "code",
   "execution_count": 68,
   "metadata": {},
   "outputs": [
    {
     "data": {
      "text/html": [
       "<div>\n",
       "<style scoped>\n",
       "    .dataframe tbody tr th:only-of-type {\n",
       "        vertical-align: middle;\n",
       "    }\n",
       "\n",
       "    .dataframe tbody tr th {\n",
       "        vertical-align: top;\n",
       "    }\n",
       "\n",
       "    .dataframe thead th {\n",
       "        text-align: right;\n",
       "    }\n",
       "</style>\n",
       "<table border=\"1\" class=\"dataframe\">\n",
       "  <thead>\n",
       "    <tr style=\"text-align: right;\">\n",
       "      <th></th>\n",
       "      <th>color</th>\n",
       "      <th>director_name</th>\n",
       "      <th>num_critic_for_reviews</th>\n",
       "      <th>duration</th>\n",
       "      <th>director_facebook_likes</th>\n",
       "      <th>actor_3_facebook_likes</th>\n",
       "      <th>actor_2_name</th>\n",
       "      <th>actor_1_facebook_likes</th>\n",
       "      <th>gross</th>\n",
       "      <th>genres</th>\n",
       "      <th>...</th>\n",
       "      <th>num_user_for_reviews</th>\n",
       "      <th>language</th>\n",
       "      <th>country</th>\n",
       "      <th>content_rating</th>\n",
       "      <th>budget</th>\n",
       "      <th>title_year</th>\n",
       "      <th>actor_2_facebook_likes</th>\n",
       "      <th>imdb_score</th>\n",
       "      <th>aspect_ratio</th>\n",
       "      <th>movie_facebook_likes</th>\n",
       "    </tr>\n",
       "  </thead>\n",
       "  <tbody>\n",
       "    <tr>\n",
       "      <th>0</th>\n",
       "      <td>Color</td>\n",
       "      <td>James Cameron</td>\n",
       "      <td>723.0</td>\n",
       "      <td>178.0</td>\n",
       "      <td>0.0</td>\n",
       "      <td>855.0</td>\n",
       "      <td>Joel David Moore</td>\n",
       "      <td>1000.0</td>\n",
       "      <td>760505847.0</td>\n",
       "      <td>Action|Adventure|Fantasy|Sci-Fi</td>\n",
       "      <td>...</td>\n",
       "      <td>3054.0</td>\n",
       "      <td>English</td>\n",
       "      <td>USA</td>\n",
       "      <td>PG-13</td>\n",
       "      <td>237000000.0</td>\n",
       "      <td>2009.0</td>\n",
       "      <td>936.0</td>\n",
       "      <td>7.9</td>\n",
       "      <td>1.78</td>\n",
       "      <td>33000</td>\n",
       "    </tr>\n",
       "    <tr>\n",
       "      <th>1</th>\n",
       "      <td>Color</td>\n",
       "      <td>Gore Verbinski</td>\n",
       "      <td>302.0</td>\n",
       "      <td>169.0</td>\n",
       "      <td>563.0</td>\n",
       "      <td>1000.0</td>\n",
       "      <td>Orlando Bloom</td>\n",
       "      <td>40000.0</td>\n",
       "      <td>309404152.0</td>\n",
       "      <td>Action|Adventure|Fantasy</td>\n",
       "      <td>...</td>\n",
       "      <td>1238.0</td>\n",
       "      <td>English</td>\n",
       "      <td>USA</td>\n",
       "      <td>PG-13</td>\n",
       "      <td>300000000.0</td>\n",
       "      <td>2007.0</td>\n",
       "      <td>5000.0</td>\n",
       "      <td>7.1</td>\n",
       "      <td>2.35</td>\n",
       "      <td>0</td>\n",
       "    </tr>\n",
       "    <tr>\n",
       "      <th>2</th>\n",
       "      <td>Color</td>\n",
       "      <td>Sam Mendes</td>\n",
       "      <td>602.0</td>\n",
       "      <td>148.0</td>\n",
       "      <td>0.0</td>\n",
       "      <td>161.0</td>\n",
       "      <td>Rory Kinnear</td>\n",
       "      <td>11000.0</td>\n",
       "      <td>200074175.0</td>\n",
       "      <td>Action|Adventure|Thriller</td>\n",
       "      <td>...</td>\n",
       "      <td>994.0</td>\n",
       "      <td>English</td>\n",
       "      <td>UK</td>\n",
       "      <td>PG-13</td>\n",
       "      <td>245000000.0</td>\n",
       "      <td>2015.0</td>\n",
       "      <td>393.0</td>\n",
       "      <td>6.8</td>\n",
       "      <td>2.35</td>\n",
       "      <td>85000</td>\n",
       "    </tr>\n",
       "    <tr>\n",
       "      <th>3</th>\n",
       "      <td>Color</td>\n",
       "      <td>Christopher Nolan</td>\n",
       "      <td>813.0</td>\n",
       "      <td>164.0</td>\n",
       "      <td>22000.0</td>\n",
       "      <td>23000.0</td>\n",
       "      <td>Christian Bale</td>\n",
       "      <td>27000.0</td>\n",
       "      <td>448130642.0</td>\n",
       "      <td>Action|Thriller</td>\n",
       "      <td>...</td>\n",
       "      <td>2701.0</td>\n",
       "      <td>English</td>\n",
       "      <td>USA</td>\n",
       "      <td>PG-13</td>\n",
       "      <td>250000000.0</td>\n",
       "      <td>2012.0</td>\n",
       "      <td>23000.0</td>\n",
       "      <td>8.5</td>\n",
       "      <td>2.35</td>\n",
       "      <td>164000</td>\n",
       "    </tr>\n",
       "  </tbody>\n",
       "</table>\n",
       "<p>4 rows × 28 columns</p>\n",
       "</div>"
      ],
      "text/plain": [
       "   color      director_name  num_critic_for_reviews  duration  \\\n",
       "0  Color      James Cameron                   723.0     178.0   \n",
       "1  Color     Gore Verbinski                   302.0     169.0   \n",
       "2  Color         Sam Mendes                   602.0     148.0   \n",
       "3  Color  Christopher Nolan                   813.0     164.0   \n",
       "\n",
       "   director_facebook_likes  actor_3_facebook_likes      actor_2_name  \\\n",
       "0                      0.0                   855.0  Joel David Moore   \n",
       "1                    563.0                  1000.0     Orlando Bloom   \n",
       "2                      0.0                   161.0      Rory Kinnear   \n",
       "3                  22000.0                 23000.0    Christian Bale   \n",
       "\n",
       "   actor_1_facebook_likes        gross                           genres  ...  \\\n",
       "0                  1000.0  760505847.0  Action|Adventure|Fantasy|Sci-Fi  ...   \n",
       "1                 40000.0  309404152.0         Action|Adventure|Fantasy  ...   \n",
       "2                 11000.0  200074175.0        Action|Adventure|Thriller  ...   \n",
       "3                 27000.0  448130642.0                  Action|Thriller  ...   \n",
       "\n",
       "  num_user_for_reviews language  country  content_rating       budget  \\\n",
       "0               3054.0  English      USA           PG-13  237000000.0   \n",
       "1               1238.0  English      USA           PG-13  300000000.0   \n",
       "2                994.0  English       UK           PG-13  245000000.0   \n",
       "3               2701.0  English      USA           PG-13  250000000.0   \n",
       "\n",
       "   title_year actor_2_facebook_likes imdb_score  aspect_ratio  \\\n",
       "0      2009.0                  936.0        7.9          1.78   \n",
       "1      2007.0                 5000.0        7.1          2.35   \n",
       "2      2015.0                  393.0        6.8          2.35   \n",
       "3      2012.0                23000.0        8.5          2.35   \n",
       "\n",
       "  movie_facebook_likes  \n",
       "0                33000  \n",
       "1                    0  \n",
       "2                85000  \n",
       "3               164000  \n",
       "\n",
       "[4 rows x 28 columns]"
      ]
     },
     "execution_count": 68,
     "metadata": {},
     "output_type": "execute_result"
    }
   ],
   "source": [
    "df.head(4)"
   ]
  },
  {
   "cell_type": "code",
   "execution_count": 69,
   "metadata": {},
   "outputs": [],
   "source": [
    "import numpy as ag"
   ]
  },
  {
   "cell_type": "code",
   "execution_count": 70,
   "metadata": {},
   "outputs": [],
   "source": [
    "import matplotlib.pyplot as plt"
   ]
  },
  {
   "cell_type": "code",
   "execution_count": 71,
   "metadata": {},
   "outputs": [
    {
     "name": "stdout",
     "output_type": "stream",
     "text": [
      "[178. 169. 148. 164.  nan 132. 156. 100. 141. 153. 183. 169. 106. 151.\n",
      " 150.]\n"
     ]
    }
   ],
   "source": [
    "a=ag.array(df['duration'])[:15]\n",
    "print(a)"
   ]
  },
  {
   "cell_type": "code",
   "execution_count": 72,
   "metadata": {},
   "outputs": [
    {
     "name": "stdout",
     "output_type": "stream",
     "text": [
      "['Avatar\\xa0' \"Pirates of the Caribbean: At World's End\\xa0\" 'Spectre\\xa0'\n",
      " 'The Dark Knight Rises\\xa0'\n",
      " 'Star Wars: Episode VII - The Force Awakens\\xa0            '\n",
      " 'John Carter\\xa0' 'Spider-Man 3\\xa0' 'Tangled\\xa0'\n",
      " 'Avengers: Age of Ultron\\xa0'\n",
      " 'Harry Potter and the Half-Blood Prince\\xa0'\n",
      " 'Batman v Superman: Dawn of Justice\\xa0' 'Superman Returns\\xa0'\n",
      " 'Quantum of Solace\\xa0' \"Pirates of the Caribbean: Dead Man's Chest\\xa0\"\n",
      " 'The Lone Ranger\\xa0']\n"
     ]
    }
   ],
   "source": [
    "\n",
    "b=ag.array(df['movie_title'])[:15]\n",
    "print(b)\n"
   ]
  },
  {
   "cell_type": "code",
   "execution_count": 73,
   "metadata": {},
   "outputs": [
    {
     "name": "stdout",
     "output_type": "stream",
     "text": [
      "Avatar \n"
     ]
    }
   ],
   "source": [
    "print(b[0])\n",
    "\n",
    "\n",
    "\n"
   ]
  },
  {
   "cell_type": "code",
   "execution_count": 74,
   "metadata": {},
   "outputs": [
    {
     "data": {
      "image/png": "[encoded data removed]",
      "text/plain": [
       "<Figure size 1440x1440 with 1 Axes>"
      ]
     },
     "metadata": {
      "needs_background": "light"
     },
     "output_type": "display_data"
    }
   ],
   "source": [
    "plt.figure(figsize=(20,20))\n",
    "plt.scatter(b,a)\n",
    "\n",
    "plt.show()"
   ]
  },
  {
   "cell_type": "code",
   "execution_count": 75,
   "metadata": {},
   "outputs": [
    {
     "data": {
      "text/plain": [
       "0                                              Avatar \n",
       "1            Pirates of the Caribbean: At World's End \n",
       "2                                             Spectre \n",
       "3                               The Dark Knight Rises \n",
       "4    Star Wars: Episode VII - The Force Awakens    ...\n",
       "5                                         John Carter \n",
       "6                                        Spider-Man 3 \n",
       "7                                             Tangled \n",
       "8                             Avengers: Age of Ultron \n",
       "9              Harry Potter and the Half-Blood Prince \n",
       "Name: movie_title, dtype: object"
      ]
     },
     "execution_count": 75,
     "metadata": {},
     "output_type": "execute_result"
    }
   ],
   "source": [
    "df['movie_title'][:10]"
   ]
  },
  {
   "cell_type": "code",
   "execution_count": 76,
   "metadata": {},
   "outputs": [
    {
     "name": "stdout",
     "output_type": "stream",
     "text": [
      "['Avatar\\xa0' \"Pirates of the Caribbean: At World's End\\xa0\" 'Spectre\\xa0'\n",
      " ... 'A Plague So Pleasant\\xa0' 'Shanghai Calling\\xa0'\n",
      " 'My Date with Drew\\xa0']\n"
     ]
    }
   ],
   "source": [
    "title=ag.array(df['movie_title'])\n",
    "print(title)"
   ]
  },
  {
   "cell_type": "code",
   "execution_count": 77,
   "metadata": {},
   "outputs": [
    {
     "name": "stdout",
     "output_type": "stream",
     "text": [
      "[ 1  1  1 ... 79 83 86]\n"
     ]
    }
   ],
   "source": [
    "length=ag.array([len(x)-1 for x in title] )\n",
    "length.sort()\n",
    "print(length)"
   ]
  },
  {
   "cell_type": "code",
   "execution_count": 78,
   "metadata": {},
   "outputs": [
    {
     "name": "stdout",
     "output_type": "stream",
     "text": [
      "{1: 5, 2: 8, 3: 35, 4: 91, 5: 139, 6: 138, 7: 226, 8: 267, 9: 294, 10: 328, 11: 330, 12: 306, 13: 274, 14: 284, 15: 264, 16: 239, 17: 219, 18: 213, 19: 176, 20: 138, 21: 138, 22: 109, 23: 85, 24: 82, 25: 74, 26: 69, 27: 51, 28: 65, 29: 36, 30: 47, 31: 43, 32: 21, 33: 31, 34: 30, 35: 21, 36: 18, 37: 24, 38: 13, 39: 14, 40: 17, 41: 14, 42: 8, 43: 9, 44: 4, 45: 7, 46: 4, 47: 4, 48: 4, 49: 3, 50: 5, 52: 2, 53: 2, 54: 3, 55: 1, 56: 1, 58: 2, 59: 1, 62: 1, 66: 1, 68: 1, 71: 1, 79: 1, 83: 1, 86: 1}\n"
     ]
    }
   ],
   "source": [
    "dict={}\n",
    "for x in length:\n",
    "    try:\n",
    "        dict[x] +=1\n",
    "    except:\n",
    "        dict[x]=1\n",
    "print(dict)"
   ]
  },
  {
   "cell_type": "code",
   "execution_count": 79,
   "metadata": {},
   "outputs": [],
   "source": [
    "import matplotlib.pyplot as af\n",
    "\n",
    "    "
   ]
  },
  {
   "cell_type": "code",
   "execution_count": 80,
   "metadata": {},
   "outputs": [
    {
     "ename": "TypeError",
     "evalue": "'type' object is not subscriptable",
     "output_type": "error",
     "traceback": [
      "\u001b[1;31m---------------------------------------------------------------------------\u001b[0m",
      "\u001b[1;31mTypeError\u001b[0m                                 Traceback (most recent call last)",
      "\u001b[1;32m<ipython-input-80-9fa81e0d57de>\u001b[0m in \u001b[0;36m<module>\u001b[1;34m\u001b[0m\n\u001b[1;32m----> 1\u001b[1;33m \u001b[0ma\u001b[0m\u001b[1;33m=\u001b[0m\u001b[0mag\u001b[0m\u001b[1;33m.\u001b[0m\u001b[0marray\u001b[0m\u001b[1;33m(\u001b[0m\u001b[0mlist\u001b[0m\u001b[1;33m[\u001b[0m\u001b[0mdict\u001b[0m\u001b[1;33m.\u001b[0m\u001b[0mkeys\u001b[0m\u001b[1;33m(\u001b[0m\u001b[1;33m)\u001b[0m\u001b[1;33m]\u001b[0m\u001b[1;33m)\u001b[0m\u001b[1;33m\u001b[0m\u001b[1;33m\u001b[0m\u001b[0m\n\u001b[0m\u001b[0;32m      2\u001b[0m \u001b[0mb\u001b[0m\u001b[1;33m=\u001b[0m\u001b[0mag\u001b[0m\u001b[1;33m.\u001b[0m\u001b[0marray\u001b[0m\u001b[1;33m(\u001b[0m\u001b[0mlist\u001b[0m\u001b[1;33m[\u001b[0m\u001b[0mdict\u001b[0m\u001b[1;33m.\u001b[0m\u001b[0mvalues\u001b[0m\u001b[1;33m(\u001b[0m\u001b[1;33m)\u001b[0m\u001b[1;33m]\u001b[0m\u001b[1;33m)\u001b[0m\u001b[1;33m\u001b[0m\u001b[1;33m\u001b[0m\u001b[0m\n",
      "\u001b[1;31mTypeError\u001b[0m: 'type' object is not subscriptable"
     ]
    }
   ],
   "source": [
    "a=ag.array(list[dict.keys()])\n",
    "b=ag.array(list[dict.values()])\n"
   ]
  },
  {
   "cell_type": "code",
   "execution_count": 91,
   "metadata": {},
   "outputs": [],
   "source": [
    "z=ag.unique(length,return_counts=True)\n",
    "a=ag.array([z])\n"
   ]
  },
  {
   "cell_type": "code",
   "execution_count": 88,
   "metadata": {},
   "outputs": [
    {
     "name": "stdout",
     "output_type": "stream",
     "text": [
      "(array([ 1,  2,  3,  4,  5,  6,  7,  8,  9, 10, 11, 12, 13, 14, 15, 16, 17,\n",
      "       18, 19, 20, 21, 22, 23, 24, 25, 26, 27, 28, 29, 30, 31, 32, 33, 34,\n",
      "       35, 36, 37, 38, 39, 40, 41, 42, 43, 44, 45, 46, 47, 48, 49, 50, 52,\n",
      "       53, 54, 55, 56, 58, 59, 62, 66, 68, 71, 79, 83, 86]), array([  5,   8,  35,  91, 139, 138, 226, 267, 294, 328, 330, 306, 274,\n",
      "       284, 264, 239, 219, 213, 176, 138, 138, 109,  85,  82,  74,  69,\n",
      "        51,  65,  36,  47,  43,  21,  31,  30,  21,  18,  24,  13,  14,\n",
      "        17,  14,   8,   9,   4,   7,   4,   4,   4,   3,   5,   2,   2,\n",
      "         3,   1,   1,   2,   1,   1,   1,   1,   1,   1,   1,   1]))\n"
     ]
    }
   ],
   "source": [
    "print(z)"
   ]
  },
  {
   "cell_type": "code",
   "execution_count": 92,
   "metadata": {},
   "outputs": [
    {
     "data": {
      "text/plain": [
       "(1, 2, 64)"
      ]
     },
     "execution_count": 92,
     "metadata": {},
     "output_type": "execute_result"
    }
   ],
   "source": [
    "a.shape\n"
   ]
  },
  {
   "cell_type": "code",
   "execution_count": 94,
   "metadata": {},
   "outputs": [
    {
     "data": {
      "text/plain": [
       "array([ 1,  2,  3,  4,  5,  6,  7,  8,  9, 10, 11, 12, 13, 14, 15, 16, 17,\n",
       "       18, 19, 20, 21, 22, 23, 24, 25, 26, 27, 28, 29, 30, 31, 32, 33, 34,\n",
       "       35, 36, 37, 38, 39, 40, 41, 42, 43, 44, 45, 46, 47, 48, 49, 50, 52,\n",
       "       53, 54, 55, 56, 58, 59, 62, 66, 68, 71, 79, 83, 86])"
      ]
     },
     "execution_count": 94,
     "metadata": {},
     "output_type": "execute_result"
    }
   ],
   "source": [
    "x=a[0][0]"
   ]
  },
  {
   "cell_type": "code",
   "execution_count": 95,
   "metadata": {},
   "outputs": [],
   "source": [
    "y=a[0][1]"
   ]
  },
  {
   "cell_type": "code",
   "execution_count": 96,
   "metadata": {},
   "outputs": [
    {
     "name": "stdout",
     "output_type": "stream",
     "text": [
      "[  5   8  35  91 139 138 226 267 294 328 330 306 274 284 264 239 219 213\n",
      " 176 138 138 109  85  82  74  69  51  65  36  47  43  21  31  30  21  18\n",
      "  24  13  14  17  14   8   9   4   7   4   4   4   3   5   2   2   3   1\n",
      "   1   2   1   1   1   1   1   1   1   1]\n"
     ]
    }
   ],
   "source": [
    "print(y)"
   ]
  },
  {
   "cell_type": "code",
   "execution_count": 98,
   "metadata": {},
   "outputs": [
    {
     "ename": "ValueError",
     "evalue": "x and y must have same first dimension, but have shapes (1,) and (64,)",
     "output_type": "error",
     "traceback": [
      "\u001b[1;31m---------------------------------------------------------------------------\u001b[0m",
      "\u001b[1;31mValueError\u001b[0m                                Traceback (most recent call last)",
      "\u001b[1;32m<ipython-input-98-f44bda7d206e>\u001b[0m in \u001b[0;36m<module>\u001b[1;34m\u001b[0m\n\u001b[1;32m----> 1\u001b[1;33m \u001b[0maf\u001b[0m\u001b[1;33m.\u001b[0m\u001b[0mplot\u001b[0m\u001b[1;33m(\u001b[0m\u001b[0mx\u001b[0m\u001b[1;33m,\u001b[0m\u001b[0my\u001b[0m\u001b[1;33m)\u001b[0m\u001b[1;33m\u001b[0m\u001b[1;33m\u001b[0m\u001b[0m\n\u001b[0m",
      "\u001b[1;32mc:\\new folder\\lib\\site-packages\\matplotlib\\pyplot.py\u001b[0m in \u001b[0;36mplot\u001b[1;34m(scalex, scaley, data, *args, **kwargs)\u001b[0m\n\u001b[0;32m   2787\u001b[0m     return gca().plot(\n\u001b[0;32m   2788\u001b[0m         *args, scalex=scalex, scaley=scaley, **({\"data\": data} if data\n\u001b[1;32m-> 2789\u001b[1;33m         is not None else {}), **kwargs)\n\u001b[0m\u001b[0;32m   2790\u001b[0m \u001b[1;33m\u001b[0m\u001b[0m\n\u001b[0;32m   2791\u001b[0m \u001b[1;33m\u001b[0m\u001b[0m\n",
      "\u001b[1;32mc:\\new folder\\lib\\site-packages\\matplotlib\\axes\\_axes.py\u001b[0m in \u001b[0;36mplot\u001b[1;34m(self, scalex, scaley, data, *args, **kwargs)\u001b[0m\n\u001b[0;32m   1664\u001b[0m         \"\"\"\n\u001b[0;32m   1665\u001b[0m         \u001b[0mkwargs\u001b[0m \u001b[1;33m=\u001b[0m \u001b[0mcbook\u001b[0m\u001b[1;33m.\u001b[0m\u001b[0mnormalize_kwargs\u001b[0m\u001b[1;33m(\u001b[0m\u001b[0mkwargs\u001b[0m\u001b[1;33m,\u001b[0m \u001b[0mmlines\u001b[0m\u001b[1;33m.\u001b[0m\u001b[0mLine2D\u001b[0m\u001b[1;33m.\u001b[0m\u001b[0m_alias_map\u001b[0m\u001b[1;33m)\u001b[0m\u001b[1;33m\u001b[0m\u001b[1;33m\u001b[0m\u001b[0m\n\u001b[1;32m-> 1666\u001b[1;33m         \u001b[0mlines\u001b[0m \u001b[1;33m=\u001b[0m \u001b[1;33m[\u001b[0m\u001b[1;33m*\u001b[0m\u001b[0mself\u001b[0m\u001b[1;33m.\u001b[0m\u001b[0m_get_lines\u001b[0m\u001b[1;33m(\u001b[0m\u001b[1;33m*\u001b[0m\u001b[0margs\u001b[0m\u001b[1;33m,\u001b[0m \u001b[0mdata\u001b[0m\u001b[1;33m=\u001b[0m\u001b[0mdata\u001b[0m\u001b[1;33m,\u001b[0m \u001b[1;33m**\u001b[0m\u001b[0mkwargs\u001b[0m\u001b[1;33m)\u001b[0m\u001b[1;33m]\u001b[0m\u001b[1;33m\u001b[0m\u001b[1;33m\u001b[0m\u001b[0m\n\u001b[0m\u001b[0;32m   1667\u001b[0m         \u001b[1;32mfor\u001b[0m \u001b[0mline\u001b[0m \u001b[1;32min\u001b[0m \u001b[0mlines\u001b[0m\u001b[1;33m:\u001b[0m\u001b[1;33m\u001b[0m\u001b[1;33m\u001b[0m\u001b[0m\n\u001b[0;32m   1668\u001b[0m             \u001b[0mself\u001b[0m\u001b[1;33m.\u001b[0m\u001b[0madd_line\u001b[0m\u001b[1;33m(\u001b[0m\u001b[0mline\u001b[0m\u001b[1;33m)\u001b[0m\u001b[1;33m\u001b[0m\u001b[1;33m\u001b[0m\u001b[0m\n",
      "\u001b[1;32mc:\\new folder\\lib\\site-packages\\matplotlib\\axes\\_base.py\u001b[0m in \u001b[0;36m__call__\u001b[1;34m(self, *args, **kwargs)\u001b[0m\n\u001b[0;32m    223\u001b[0m                 \u001b[0mthis\u001b[0m \u001b[1;33m+=\u001b[0m \u001b[0margs\u001b[0m\u001b[1;33m[\u001b[0m\u001b[1;36m0\u001b[0m\u001b[1;33m]\u001b[0m\u001b[1;33m,\u001b[0m\u001b[1;33m\u001b[0m\u001b[1;33m\u001b[0m\u001b[0m\n\u001b[0;32m    224\u001b[0m                 \u001b[0margs\u001b[0m \u001b[1;33m=\u001b[0m \u001b[0margs\u001b[0m\u001b[1;33m[\u001b[0m\u001b[1;36m1\u001b[0m\u001b[1;33m:\u001b[0m\u001b[1;33m]\u001b[0m\u001b[1;33m\u001b[0m\u001b[1;33m\u001b[0m\u001b[0m\n\u001b[1;32m--> 225\u001b[1;33m             \u001b[1;32myield\u001b[0m \u001b[1;32mfrom\u001b[0m \u001b[0mself\u001b[0m\u001b[1;33m.\u001b[0m\u001b[0m_plot_args\u001b[0m\u001b[1;33m(\u001b[0m\u001b[0mthis\u001b[0m\u001b[1;33m,\u001b[0m \u001b[0mkwargs\u001b[0m\u001b[1;33m)\u001b[0m\u001b[1;33m\u001b[0m\u001b[1;33m\u001b[0m\u001b[0m\n\u001b[0m\u001b[0;32m    226\u001b[0m \u001b[1;33m\u001b[0m\u001b[0m\n\u001b[0;32m    227\u001b[0m     \u001b[1;32mdef\u001b[0m \u001b[0mget_next_color\u001b[0m\u001b[1;33m(\u001b[0m\u001b[0mself\u001b[0m\u001b[1;33m)\u001b[0m\u001b[1;33m:\u001b[0m\u001b[1;33m\u001b[0m\u001b[1;33m\u001b[0m\u001b[0m\n",
      "\u001b[1;32mc:\\new folder\\lib\\site-packages\\matplotlib\\axes\\_base.py\u001b[0m in \u001b[0;36m_plot_args\u001b[1;34m(self, tup, kwargs)\u001b[0m\n\u001b[0;32m    389\u001b[0m             \u001b[0mx\u001b[0m\u001b[1;33m,\u001b[0m \u001b[0my\u001b[0m \u001b[1;33m=\u001b[0m \u001b[0mindex_of\u001b[0m\u001b[1;33m(\u001b[0m\u001b[0mtup\u001b[0m\u001b[1;33m[\u001b[0m\u001b[1;33m-\u001b[0m\u001b[1;36m1\u001b[0m\u001b[1;33m]\u001b[0m\u001b[1;33m)\u001b[0m\u001b[1;33m\u001b[0m\u001b[1;33m\u001b[0m\u001b[0m\n\u001b[0;32m    390\u001b[0m \u001b[1;33m\u001b[0m\u001b[0m\n\u001b[1;32m--> 391\u001b[1;33m         \u001b[0mx\u001b[0m\u001b[1;33m,\u001b[0m \u001b[0my\u001b[0m \u001b[1;33m=\u001b[0m \u001b[0mself\u001b[0m\u001b[1;33m.\u001b[0m\u001b[0m_xy_from_xy\u001b[0m\u001b[1;33m(\u001b[0m\u001b[0mx\u001b[0m\u001b[1;33m,\u001b[0m \u001b[0my\u001b[0m\u001b[1;33m)\u001b[0m\u001b[1;33m\u001b[0m\u001b[1;33m\u001b[0m\u001b[0m\n\u001b[0m\u001b[0;32m    392\u001b[0m \u001b[1;33m\u001b[0m\u001b[0m\n\u001b[0;32m    393\u001b[0m         \u001b[1;32mif\u001b[0m \u001b[0mself\u001b[0m\u001b[1;33m.\u001b[0m\u001b[0mcommand\u001b[0m \u001b[1;33m==\u001b[0m \u001b[1;34m'plot'\u001b[0m\u001b[1;33m:\u001b[0m\u001b[1;33m\u001b[0m\u001b[1;33m\u001b[0m\u001b[0m\n",
      "\u001b[1;32mc:\\new folder\\lib\\site-packages\\matplotlib\\axes\\_base.py\u001b[0m in \u001b[0;36m_xy_from_xy\u001b[1;34m(self, x, y)\u001b[0m\n\u001b[0;32m    268\u001b[0m         \u001b[1;32mif\u001b[0m \u001b[0mx\u001b[0m\u001b[1;33m.\u001b[0m\u001b[0mshape\u001b[0m\u001b[1;33m[\u001b[0m\u001b[1;36m0\u001b[0m\u001b[1;33m]\u001b[0m \u001b[1;33m!=\u001b[0m \u001b[0my\u001b[0m\u001b[1;33m.\u001b[0m\u001b[0mshape\u001b[0m\u001b[1;33m[\u001b[0m\u001b[1;36m0\u001b[0m\u001b[1;33m]\u001b[0m\u001b[1;33m:\u001b[0m\u001b[1;33m\u001b[0m\u001b[1;33m\u001b[0m\u001b[0m\n\u001b[0;32m    269\u001b[0m             raise ValueError(\"x and y must have same first dimension, but \"\n\u001b[1;32m--> 270\u001b[1;33m                              \"have shapes {} and {}\".format(x.shape, y.shape))\n\u001b[0m\u001b[0;32m    271\u001b[0m         \u001b[1;32mif\u001b[0m \u001b[0mx\u001b[0m\u001b[1;33m.\u001b[0m\u001b[0mndim\u001b[0m \u001b[1;33m>\u001b[0m \u001b[1;36m2\u001b[0m \u001b[1;32mor\u001b[0m \u001b[0my\u001b[0m\u001b[1;33m.\u001b[0m\u001b[0mndim\u001b[0m \u001b[1;33m>\u001b[0m \u001b[1;36m2\u001b[0m\u001b[1;33m:\u001b[0m\u001b[1;33m\u001b[0m\u001b[1;33m\u001b[0m\u001b[0m\n\u001b[0;32m    272\u001b[0m             raise ValueError(\"x and y can be no greater than 2-D, but have \"\n",
      "\u001b[1;31mValueError\u001b[0m: x and y must have same first dimension, but have shapes (1,) and (64,)"
     ]
    },
    {
     "data": {
      "image/png": "[encoded data removed]",
      "text/plain": [
       "<Figure size 432x288 with 1 Axes>"
      ]
     },
     "metadata": {
      "needs_background": "light"
     },
     "output_type": "display_data"
    }
   ],
   "source": [
    "af.plot(x,y)"
   ]
  },
  {
   "cell_type": "code",
   "execution_count": null,
   "metadata": {},
   "outputs": [],
   "source": []
  }
 ],
 "metadata": {
  "kernelspec": {
   "display_name": "Python 3",
   "language": "python",
   "name": "python3"
  },
  "language_info": {
   "codemirror_mode": {
    "name": "ipython",
    "version": 3
   },
   "file_extension": ".py",
   "mimetype": "text/x-python",
   "name": "python",
   "nbconvert_exporter": "python",
   "pygments_lexer": "ipython3",
   "version": "3.7.2"
  }
 },
 "nbformat": 4,
 "nbformat_minor": 2
}
