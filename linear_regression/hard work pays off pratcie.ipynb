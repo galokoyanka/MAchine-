{
 "cells": [
  {
   "cell_type": "code",
   "execution_count": 59,
   "metadata": {},
   "outputs": [],
   "source": [
    "import numpy as np\n",
    "import matplotlib.pyplot as plt\n",
    "import pandas as pd"
   ]
  },
  {
   "cell_type": "code",
   "execution_count": 60,
   "metadata": {},
   "outputs": [],
   "source": [
    "a=pd.read_csv(\"Linear_X_Train.csv\").values\n",
    "b=pd.read_csv(\"Linear_Y_Train.csv\").values\n",
    "c=pd.read_csv(\"Linear_X_Test.csv\").values"
   ]
  },
  {
   "cell_type": "code",
   "execution_count": 61,
   "metadata": {},
   "outputs": [
    {
     "data": {
      "image/png": "[encoded data removed]",
      "text/plain": [
       "<Figure size 432x288 with 1 Axes>"
      ]
     },
     "metadata": {
      "needs_background": "light"
     },
     "output_type": "display_data"
    }
   ],
   "source": [
    "plt.scatter(a,b)\n",
    "plt.show()"
   ]
  },
  {
   "cell_type": "code",
   "execution_count": 62,
   "metadata": {},
   "outputs": [],
   "source": [
    "def total_error(X,Y,theta):\n",
    "    m=X.shape[0]\n",
    "    e=0\n",
    "    for i in range(m):\n",
    "        yi=theta[0]+theta[1]*X[i]\n",
    "        e+=((yi-Y[i])**2)\n",
    "        \n",
    "    return e"
   ]
  },
  {
   "cell_type": "code",
   "execution_count": 63,
   "metadata": {},
   "outputs": [],
   "source": [
    "def grade(X,Y,theta):\n",
    "    grad=np.zeros((2,))\n",
    "    i=X.shape[0]\n",
    "    for i in range(i):\n",
    "        yi=theta[0]+theta[1]*X[i]\n",
    "        grad[0]+=2*(yi-Y[i])\n",
    "        grad[1]+=2*(yi-Y[i])*X[i]\n",
    "    return grad"
   ]
  },
  {
   "cell_type": "code",
   "execution_count": 71,
   "metadata": {},
   "outputs": [],
   "source": [
    "def gradientdescent(X,Y,learning_rate=0.01,max_steps=80):\n",
    "    theta=np.zeros((2,))\n",
    "    error_list=[]\n",
    "    theta_list=[]\n",
    "    \n",
    "    for i in range(max_steps):\n",
    "        grad=grade(X,Y,theta)\n",
    "        theta[0]=theta[0]-learning_rate*grad[0]\n",
    "        theta[1]=theta[1]-learning_rate*grad[1]\n",
    "        error=total_error(X,Y,theta)\n",
    "        error_list.append(error)\n",
    "        \n",
    "    return error_list,theta_list,theta\n",
    "        \n",
    "        "
   ]
  },
  {
   "cell_type": "code",
   "execution_count": 72,
   "metadata": {},
   "outputs": [],
   "source": [
    "error_list,theta_list,theta=gradientdescent(a,b)"
   ]
  },
  {
   "cell_type": "code",
   "execution_count": 74,
   "metadata": {},
   "outputs": [],
   "source": [
    "def pred(x,theta):\n",
    "    return theta[0]+theta[1]*x"
   ]
  },
  {
   "cell_type": "code",
   "execution_count": 75,
   "metadata": {},
   "outputs": [],
   "source": [
    "pred=pred(c,theta)"
   ]
  },
  {
   "cell_type": "code",
   "execution_count": 76,
   "metadata": {},
   "outputs": [
    {
     "name": "stdout",
     "output_type": "stream",
     "text": [
      "[[4.01411292e+152]\n",
      " [2.69902991e+152]\n",
      " [4.86428291e+152]\n",
      " ...\n",
      " [1.39942264e+152]\n",
      " [1.92868897e+152]\n",
      " [2.45318779e+152]]\n"
     ]
    }
   ],
   "source": [
    "print(pred)"
   ]
  },
  {
   "cell_type": "code",
   "execution_count": 77,
   "metadata": {},
   "outputs": [
    {
     "data": {
      "image/png": "[encoded data removed]",
      "text/plain": [
       "<Figure size 432x288 with 1 Axes>"
      ]
     },
     "metadata": {
      "needs_background": "light"
     },
     "output_type": "display_data"
    }
   ],
   "source": [
    "plt.scatter(a,b)\n",
    "plt.plot(c,pred,color=\"orange\")\n",
    "plt.show()"
   ]
  },
  {
   "cell_type": "code",
   "execution_count": null,
   "metadata": {},
   "outputs": [],
   "source": []
  }
 ],
 "metadata": {
  "kernelspec": {
   "display_name": "Python 3",
   "language": "python",
   "name": "python3"
  },
  "language_info": {
   "codemirror_mode": {
    "name": "ipython",
    "version": 3
   },
   "file_extension": ".py",
   "mimetype": "text/x-python",
   "name": "python",
   "nbconvert_exporter": "python",
   "pygments_lexer": "ipython3",
   "version": "3.7.2"
  }
 },
 "nbformat": 4,
 "nbformat_minor": 2
}
